{
 "cells": [
  {
   "cell_type": "markdown",
   "id": "dee921a6-e7b8-4d72-b790-ea3920c3dcab",
   "metadata": {},
   "source": [
    "# Working with `chatlogs.txt`"
   ]
  },
  {
   "cell_type": "markdown",
   "id": "26dbc200-ee81-470e-9095-a7f4378e5fdc",
   "metadata": {},
   "source": [
    "*All imports are consolidated at the top of this notebook in the cell below.*"
   ]
  },
  {
   "cell_type": "code",
   "execution_count": 1,
   "id": "ff4fd634-3709-4eef-bc0e-252a1c9d103c",
   "metadata": {},
   "outputs": [],
   "source": [
    "import re"
   ]
  },
  {
   "cell_type": "code",
   "execution_count": 17,
   "id": "489d7c64-f603-40c6-93b3-a216bd6c2f2c",
   "metadata": {},
   "outputs": [],
   "source": [
    "import json"
   ]
  },
  {
   "cell_type": "markdown",
   "id": "f3e43134-c71e-405c-bfde-1787370ec1f1",
   "metadata": {},
   "source": [
    "One of the files available in the Gab archive made available a few years ago appears to be a single file made up of chat logs, `chatlogs.txt`. The rest of the archive is made up of SQL files: accounts, groups, statuses, verifications. The `statuses.sql` looks promising but at 67GB is quite large. In contrast, `chatlogs.txt` is a mere 10MB. As the header (see below) notes, chatlogs has: \"70593 messages in 19683 chats with 15322 users.\""
   ]
  },
  {
   "cell_type": "markdown",
   "id": "af095353-9c8c-49ce-8241-b6d24769519f",
   "metadata": {},
   "source": [
    "My first step was to find out what the file looked like, I opened it in Visual Studio Code, but below is what the file looked like using Python. "
   ]
  },
  {
   "cell_type": "code",
   "execution_count": 2,
   "id": "c5a07514-c133-49af-9c00-eb8f280c3134",
   "metadata": {},
   "outputs": [
    {
     "name": "stdout",
     "output_type": "stream",
     "text": [
      "# #gableaks Gab \"private\" chats ft the ceo, qanon, nazi simps & much more.\n",
      "# 70593 messages in 19683 chats with 15322 users\n",
      "# user flags: [V]erified [P]ro [D]onor [I]nvestor [B]ot [DELETED]\n",
      "# FUCK TRUMP. FUCK COLONIZERS & CAPITALISTS. DEATH TO AMERIKKKA.\n",
      "--- 1\n",
      "2020-12-22T20:18:32 @OsmanAbbaker: hi\n",
      "2020-12-22T20:18:40 @OsmanAbbaker: how are you\n",
      "2020-12-22T20:19:33 @OsmanAbbaker: my name is osman am from effortless english group i want to ask you somthing please\n",
      "2020-12-22T20:20:42 @OsmanAbbaker: \n"
     ]
    }
   ],
   "source": [
    "with open(\"chatlogs.txt\") as f:\n",
    "    chatlogtexts = f.read()\n",
    "\n",
    "print(chatlogtexts[0:500])"
   ]
  },
  {
   "cell_type": "markdown",
   "id": "a8d8ef21-dfdd-4933-a368-ebaf7976406c",
   "metadata": {},
   "source": [
    "So, after a header of dubious utility, which we will remove in a moment, we get to the meat of the file which appears to consist of lines formatted as follows:\n",
    "\n",
    "```\n",
    "DATE-TIME @user: text\n",
    "```\n",
    "In most cases the entirety of the entry is on one line, but there are a number of places where a newline character creates multi-line entries. \n",
    "\n",
    "There are also a number of lines that have nothing more than three dashes and a number. \n",
    "\n",
    "I decided to remove those lines first, parsing them out while reading the lines as items in a list."
   ]
  },
  {
   "cell_type": "code",
   "execution_count": 3,
   "id": "275a0261-6603-411f-b498-2a9d6123aee1",
   "metadata": {},
   "outputs": [
    {
     "name": "stdout",
     "output_type": "stream",
     "text": [
      "# #gableaks Gab \"private\" chats ft the ceo, qanon, nazi simps & much more.\n",
      "\n",
      "# 70593 messages in 19683 chats with 15322 users\n",
      "\n",
      "# user flags: [V]erified [P]ro [D]onor [I]nvestor [B]ot [DELETED]\n",
      "\n",
      "# FUCK TRUMP. FUCK COLONIZERS & CAPITALISTS. DEATH TO AMERIKKKA.\n",
      "\n",
      "2020-12-22T20:18:32 @OsmanAbbaker: hi\n",
      "\n"
     ]
    }
   ],
   "source": [
    "# Instead of reading the file to a string \n",
    "# Read each line into a list of strings \n",
    "# But leave out those lines that start with three dashes\n",
    "with open(\"chatlogs.txt\") as f:\n",
    "    chatlog = [n for n in f.readlines() if not n.startswith('---')]\n",
    "\n",
    "# Let's look at the last 5 lines\n",
    "for i in chatlog[0:5]:\n",
    "    print(i)"
   ]
  },
  {
   "cell_type": "code",
   "execution_count": 4,
   "id": "5c013373-2ac0-4e55-b56f-3adfec93eb30",
   "metadata": {},
   "outputs": [],
   "source": [
    "del chatlog[0:4]"
   ]
  },
  {
   "cell_type": "markdown",
   "id": "fe523608-8e15-4fae-86bb-6dc1ee5217b3",
   "metadata": {},
   "source": [
    "With that bit of editing done, we can look at how the lines are structured:"
   ]
  },
  {
   "cell_type": "code",
   "execution_count": 5,
   "id": "b645b359-433d-46e8-8909-1ba605de175f",
   "metadata": {},
   "outputs": [
    {
     "data": {
      "text/plain": [
       "['2020-12-22T20:18:32 @OsmanAbbaker: hi\\n',\n",
       " '2020-12-22T20:18:40 @OsmanAbbaker: how are you\\n',\n",
       " '2020-12-22T20:19:33 @OsmanAbbaker: my name is osman am from effortless english group i want to ask you somthing please\\n',\n",
       " '2020-12-22T20:20:42 @OsmanAbbaker: if you dont mind\\n',\n",
       " '2020-12-22T20:18:59 @anuralight[P]: yo\\n']"
      ]
     },
     "execution_count": 5,
     "metadata": {},
     "output_type": "execute_result"
    }
   ],
   "source": [
    "chatlog[0:5]"
   ]
  },
  {
   "cell_type": "markdown",
   "id": "aaf442eb-3079-4536-b6b3-624d1c66ae64",
   "metadata": {},
   "source": [
    "Those look pretty straightforward, but I discovered multi-line blocks while scrolling in VS Code -- hand-checking always pays off! I want to be able to break the log by the date entry, which looks like this:"
   ]
  },
  {
   "cell_type": "code",
   "execution_count": 6,
   "id": "8e282cff-1df1-470d-a361-5a87f44043ad",
   "metadata": {},
   "outputs": [
    {
     "data": {
      "text/plain": [
       "'2020-12-22T21:20:05'"
      ]
     },
     "execution_count": 6,
     "metadata": {},
     "output_type": "execute_result"
    }
   ],
   "source": [
    "chatlog[5][0:19]"
   ]
  },
  {
   "cell_type": "markdown",
   "id": "fb8b3e02-4812-48db-9237-3cabbb18a657",
   "metadata": {},
   "source": [
    "First 20 characters of each line are date-time. I played with regex (on regexr.com) until I got what seemed like a reasonable solution: \n",
    "```\n",
    "^\\d{4}-\\d{2}-\\d{2}T\\d{2}:\\d{2}:\\d{2}\n",
    "```\n",
    "For some reason, my first impulse was to write this back to a file so that I could then recall by `readline`:\n",
    "```python\n",
    "with open(\"temp.txt\", \"w\") as f:\n",
    "    for i in chatlog:\n",
    "        f.write(f\"{i}\\n\")\n",
    "```\n",
    "but I realized I wanted to split a string using the regex above."
   ]
  },
  {
   "cell_type": "markdown",
   "id": "a48362dd-bfc4-41f0-a10f-13ae1b62eb8a",
   "metadata": {},
   "source": [
    "The cell block below starts with the join, and then splits the joined string back into a list of strings, but this time using the date-time pattern as the split. The goal here is to keep multi-line texts together.\n",
    "\n",
    "The use of the compile function below is a matter of personal preference. I like keeping the regex pattern out of the `split`, `substitute`, or `find` functions, but you could just as easily insert the pattern into the split function."
   ]
  },
  {
   "cell_type": "code",
   "execution_count": 7,
   "id": "c2c8e24a-7f6c-403a-a774-91fdbb789b9c",
   "metadata": {},
   "outputs": [
    {
     "name": "stdout",
     "output_type": "stream",
     "text": [
      "70596\n",
      " @JimHalsey: No idea. I thought that other thing still existed. I dunno. If you do figure out how I can give you the gift of abs, let me know 😂 I hope you’re having a wonderful day, cutie. Be happy 😘\n",
      " \n",
      " @JimHalsey: Been watching Breeders (1986) tonight, Miss 👀 Can’t send you a pic, but I’m sure you can jewgle it. About to watch Creepozoids now 😱\n",
      " \n"
     ]
    }
   ],
   "source": [
    "# Join our list of strings into one big string again\n",
    "chats = \" \".join(chatlog)\n",
    "\n",
    "# Split combined string at date-time\n",
    "re_datetime = re.compile(\"\\d{4}-\\d{2}-\\d{2}T\\d{2}:\\d{2}:\\d{2}\")\n",
    "splits = re.split(re_datetime, chats)\n",
    "\n",
    "# Checking in to see what we have\n",
    "print(len(splits))\n",
    "for i in splits[50:52]:\n",
    "     print(i)"
   ]
  },
  {
   "cell_type": "markdown",
   "id": "733bda8d-9433-48f7-8e6f-1defe51bb365",
   "metadata": {},
   "source": [
    "Yeah, this is Gab. The racism is pretty abhorrent. \n",
    "\n",
    "If we're going to focus only on the text of the messages, we need to remove the user names. I again use regexr.com to explore how best to approach making the pattern. (Please note that you can copy paste some of your sample text into the regexr text box.)"
   ]
  },
  {
   "cell_type": "code",
   "execution_count": 8,
   "id": "5ea9a435-89c0-4b0a-9727-17489298c2b1",
   "metadata": {},
   "outputs": [],
   "source": [
    "re_user = re.compile(\"^ (.*?):\")\n",
    "\n",
    "texts = []\n",
    "for i in splits:\n",
    "    text = re.sub(re_user, \"\", i, count=1)\n",
    "    texts.append(text)"
   ]
  },
  {
   "cell_type": "code",
   "execution_count": 9,
   "id": "62666312-a356-4db1-b56a-045d4a93553a",
   "metadata": {},
   "outputs": [
    {
     "name": "stdout",
     "output_type": "stream",
     "text": [
      "70596\n",
      " Thank you. I’m just a very lonely person. I had someone, kind of, or at least I thought I did (maybe I never had her; I don’t know), but she doesn’t want me anymore. I’ve been trying to find someone for a long time now. I’m the real deal. I like sex, but I find non-procreative sex pointless. My theory is that men were given the urge so that they’d procreate. So I understand we have that urge and need to satiate it, lest we go mad, but I find it totally pointless if it’s not for making babies. I’m not big on banging anything that moves. I used to go to pubs and clubs and did some of that, but never as much as I could’ve if I’d really wanted to. Those encounters are short-lived and leave you feeling very alone and used the next day when she’s left in a cab. I’m not about that and never was. I did it, but only because I couldn’t find a woman to marry me and give me kids. Now, every girl I meet who says she wants that is more interested in her work/business or too broken to pair bond anymore/scared of getting hurt again. It seems many girls have picked the wrong men, been hurt and damaged, and now good men are suffering because, well, hurt people hurt people. I’ve wanted to marry since I was a teenager, but it just never happened for me because — women lol. One could argue I was never a good enough man? I don’t know. I’m trying to be the best man I can be. I’m trying to improve. I want to be a good man. I want to be worthy of a good girl, if there is such a thing anymore\n",
      " \n",
      " Maybe we’ll just die out and the jews will win. Maybe we deserve this. Our men let our women down and now they’re letting us down by refusing to breed. Our generation will suffer because of what the Boomers did. The Boomers are the worse generation that ever lived. They’ve totally destroyed everything for us. They had careers, safe neighbourhoods, money, children. We weren’t afforded any of those things because of their mistakes, and we’ll die out having never created life. It’s crazy to think that a whole generation will never be. The generation born of the Millennials will be so incidental that it’ll be as if they were never there. The children of Gen Xers might be a bit more fruitful, but I’m not sure. I think we’re doomed\n",
      " \n",
      " Just watched Michele Saovi’s The Church. About to watch Demons now. Would be nice to have a cutie goth to snuggle with while I watch 🤭\n",
      " \n",
      " I think we're all broken.  All of us in some way are fucked up.  By design- thanks, kikes.  I don't think we'll die out, I think that those of our race who come out the other side of this will be the best white race in a long time... but we're not those people.   It will be our children &amp;amp; grandchildren I think.  IDK if I'm going to do the find love stuff- I don't know if I even want to try.  I have the desire to 1488 but everyone is such a piece of shit that it seems an impossible feat\n",
      " \n",
      " I haven't seen that one either.  I've watched demons a bunch though\n",
      " \n"
     ]
    }
   ],
   "source": [
    "print(len(texts))\n",
    "for i in texts[100:105]:\n",
    "    print(i)"
   ]
  },
  {
   "cell_type": "markdown",
   "id": "772bca94-f85e-45c1-9c75-bdf5c0b2ef77",
   "metadata": {},
   "source": [
    "So now I have 70596 texts. I can save those to a text file, or I can put them back with the date-time and the user and save them as a csv."
   ]
  },
  {
   "cell_type": "markdown",
   "id": "9329b739-3670-4976-873d-74d7fd1756c7",
   "metadata": {},
   "source": [
    "<div class=\"alert alert-block alert-danger\">\n",
    "    <b>Counts Do Not Match.</b>\n",
    "    In order to build a dataframe, I will need to split and keep. For now, I just need the texts. Let's save those to a file. \n",
    "</div>"
   ]
  },
  {
   "cell_type": "code",
   "execution_count": 10,
   "id": "544c971a-ba40-40a5-a788-46e6d80c7bf0",
   "metadata": {},
   "outputs": [],
   "source": [
    "datetimes = re.findall(re_datetime, chats)"
   ]
  },
  {
   "cell_type": "code",
   "execution_count": 11,
   "id": "6eb7f886-efda-4b7f-aea6-4be3ca357f03",
   "metadata": {},
   "outputs": [
    {
     "name": "stdout",
     "output_type": "stream",
     "text": [
      "70595\n",
      "['2020-12-29T16:12:11', '2020-12-29T16:13:18']\n"
     ]
    }
   ],
   "source": [
    "print(len(datetimes))\n",
    "print(datetimes[100:102])"
   ]
  },
  {
   "cell_type": "code",
   "execution_count": 12,
   "id": "9c841fb2-0307-4ba7-a06c-171bac29371d",
   "metadata": {},
   "outputs": [
    {
     "name": "stdout",
     "output_type": "stream",
     "text": [
      "66028\n",
      "['JimHalsey', 'JimHalsey']\n"
     ]
    }
   ],
   "source": [
    "users = re.findall(\"@(.*?):\", chats)\n",
    "print(len(users))\n",
    "print(users[100:102])"
   ]
  },
  {
   "cell_type": "markdown",
   "id": "59ccc018-a1c8-44f0-8fd2-4701f0e57c36",
   "metadata": {},
   "source": [
    "## Texts\n",
    "\n",
    "All the texts of the messages are in `texts`, which is a list. If I want to preserve newlines, I should save the list to a csv? Do I want to preserve newlines?"
   ]
  },
  {
   "cell_type": "code",
   "execution_count": 16,
   "id": "9f25fa52-dc73-403e-a5b2-cc68b526a317",
   "metadata": {},
   "outputs": [
    {
     "data": {
      "text/plain": [
       "[' its happening\\n ',\n",
       " ' Squeeeeeeeeeeeee 😆\\n ',\n",
       " ' Hello, Beautiful Lady. Have a fantastic day ☺️\\n ',\n",
       " ' Hi.  Thank you.  Hope your day is wonderful as well.  :)\\n ',\n",
       " ' Thanks, Sweetness\\n ',\n",
       " ' Are you working today, Beautiful Girl, or are you hanging with fam?\\n ',\n",
       " ' I’m working.  The only days I have off for the next 2 weeks is Christmas Day &amp;amp; New Year’s Day.  :(.   I need to get another job.  This one is killing me\\n ',\n",
       " ' Was gonna say no, what you need is a husband and kids, but you know this already, and I don’t want to labour the point, tell you shid you know and just generally make you feel crappy lol — even though I’m sure I do at times, which is never my intention and which I am sorry for. I’m sure one day you’ll find a good man and will have a family. It’s a lot easier for a woman than it is for a man. Even when a woman is past her best, and can’t have kids, there are still men lining up. Whereas White men find it hard to find anyone now, especially a good Aryan woman of breeding age who wants to give them children. I know I’m a broken record lol. I’m positive you’ll find someone. If I were nearby, I’d be all over you, but I’m not, and you probably wouldn’t like me anyway lol. But I would try, provided you changed a few things I don’t like lol. I’m pretty old school and expect to call the shots in a marriage.\\n ',\n",
       " ' I’m guessing you do call centre work or something. Seems like you’re totally overworked and are dealing with whinging wankers on a daily basis\\n ',\n",
       " ' Yeah-  I’m pretty aware of a lot of that... believe it or not, things are hard for chicks who don’t want to put out on the first date.  I think that’s where I’m struggling.  Also my super Nazi racisms are not as well received as one might think.  I think it freaks people out.\\n ']"
      ]
     },
     "execution_count": 16,
     "metadata": {},
     "output_type": "execute_result"
    }
   ],
   "source": [
    "texts[15:25]"
   ]
  },
  {
   "cell_type": "code",
   "execution_count": 18,
   "id": "25c24933-1a77-4393-bd04-dce646eaee91",
   "metadata": {},
   "outputs": [],
   "source": [
    "with open(\"texts.json\", 'w') as f:\n",
    "    # indent=2 is not needed but makes the file human-readable \n",
    "    # if the data is nested\n",
    "    json.dump(texts, f, indent=2) "
   ]
  },
  {
   "cell_type": "code",
   "execution_count": null,
   "id": "03a7dc60-3f0c-4051-a16f-67dcc840b046",
   "metadata": {},
   "outputs": [],
   "source": []
  }
 ],
 "metadata": {
  "kernelspec": {
   "display_name": "Python 3 (ipykernel)",
   "language": "python",
   "name": "python3"
  },
  "language_info": {
   "codemirror_mode": {
    "name": "ipython",
    "version": 3
   },
   "file_extension": ".py",
   "mimetype": "text/x-python",
   "name": "python",
   "nbconvert_exporter": "python",
   "pygments_lexer": "ipython3",
   "version": "3.11.9"
  }
 },
 "nbformat": 4,
 "nbformat_minor": 5
}
